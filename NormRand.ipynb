{
 "cells": [
  {
   "cell_type": "code",
   "execution_count": null,
   "id": "e20e42a0-3c2d-4346-8f67-18ace668f127",
   "metadata": {},
   "outputs": [],
   "source": [
    "import numpy as np\n",
    "import matplotlib.pyplot as plt"
   ]
  },
  {
   "cell_type": "code",
   "execution_count": null,
   "id": "05cf9d21-b8c3-4bd9-83ff-97800b670e98",
   "metadata": {},
   "outputs": [],
   "source": [
    "mean = 0\n",
    "stand_dev = 1\n",
    "\n",
    "rand_num = np.random.normal(loc = mean, scale = stand_dev, size = 1000)"
   ]
  },
  {
   "cell_type": "code",
   "execution_count": null,
   "id": "331f3e8d-1cdb-4888-9b69-f5f6d6209dff",
   "metadata": {},
   "outputs": [],
   "source": [
    "plt.hist(rand_num, bins = 100, edgecolor = 'black')\n",
    "plt.xlabel('Value')\n",
    "plt.ylabel('Frequency')\n",
    "plt.title('Histogram of Normally Distrubted Random Numbers')\n",
    "plt.grid(True)\n",
    "\n",
    "plt.savefig(\"normal_histogram.pdf\")\n",
    "plt.show()"
   ]
  }
 ],
 "metadata": {
  "kernelspec": {
   "display_name": "Python 3 (ipykernel)",
   "language": "python",
   "name": "python3"
  },
  "language_info": {
   "codemirror_mode": {
    "name": "ipython",
    "version": 3
   },
   "file_extension": ".py",
   "mimetype": "text/x-python",
   "name": "python",
   "nbconvert_exporter": "python",
   "pygments_lexer": "ipython3",
   "version": "3.14.0"
  }
 },
 "nbformat": 4,
 "nbformat_minor": 5
}
