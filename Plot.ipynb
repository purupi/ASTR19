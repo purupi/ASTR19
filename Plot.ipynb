{
 "cells": [
  {
   "cell_type": "code",
   "execution_count": null,
   "id": "2a54cd74-8fa5-4324-8014-d31f71871fae",
   "metadata": {},
   "outputs": [],
   "source": [
    "import numpy as np \n",
    "import matplotlib.pylot as plt"
   ]
  },
  {
   "cell_type": "code",
   "execution_count": null,
   "id": "1d4091f5-3387-4279-a944-2533b5f1a68d",
   "metadata": {},
   "outputs": [],
   "source": [
    "x = np.linspace(0,1,100) \n",
    "def exp_fun(x): \n",
    "    return np.exp(x)"
   ]
  },
  {
   "cell_type": "code",
   "execution_count": null,
   "id": "7bb4d640-8693-4f84-a1fe-84f5ebf9ea74",
   "metadata": {},
   "outputs": [],
   "source": [
    "y = exp_fun(x) plt.plot(x,y) \n",
    "\n",
    "plt.xlabel(\"Time (milliseconds)\") \n",
    "plt.ylabel(\"Awesomeness\") \n",
    "plt.title(\"Exponential Awesomeness Over Time\") \n",
    "plt.grid(True) \n",
    "plt.savefigi(\"exp_plot.pdf\") \n",
    "plt.show"
   ]
  }
 ],
 "metadata": {
  "kernelspec": {
   "display_name": "Python 3 (ipykernel)",
   "language": "python",
   "name": "python3"
  },
  "language_info": {
   "codemirror_mode": {
    "name": "ipython",
    "version": 3
   },
   "file_extension": ".py",
   "mimetype": "text/x-python",
   "name": "python",
   "nbconvert_exporter": "python",
   "pygments_lexer": "ipython3",
   "version": "3.14.0"
  }
 },
 "nbformat": 4,
 "nbformat_minor": 5
}
