{
 "cells": [
  {
   "cell_type": "code",
   "execution_count": null,
   "id": "20c49952-e275-4c4d-85a1-6a97c897359b",
   "metadata": {},
   "outputs": [],
   "source": [
    "import numpy as np\n",
    "import matplotlib.pyplot as plt"
   ]
  },
  {
   "cell_type": "code",
   "execution_count": null,
   "id": "eefaa8df-2b6b-419a-8ad3-df507a853600",
   "metadata": {},
   "outputs": [],
   "source": [
    "rand_num = np.random.uniform(0,1,1000)"
   ]
  },
  {
   "cell_type": "code",
   "execution_count": null,
   "id": "829870e8-5ad6-4ea0-b75a-8adb41451251",
   "metadata": {},
   "outputs": [],
   "source": [
    "plt.hist(rand_num, bins = 100, edgecolor = 'black')\n",
    "plt.xlabel(\"Value\")\n",
    "plt.ylabel(\"Frequency\")\n",
    "plt.title(\"Histogram of Uniformly Distributed Random Numbers\")\n",
    "plt.grid(True)\n",
    "\n",
    "plt.savefig(\"uniform_histogram.pdf\")\n",
    "plt.show()"
   ]
  }
 ],
 "metadata": {
  "kernelspec": {
   "display_name": "Python 3 (ipykernel)",
   "language": "python",
   "name": "python3"
  },
  "language_info": {
   "codemirror_mode": {
    "name": "ipython",
    "version": 3
   },
   "file_extension": ".py",
   "mimetype": "text/x-python",
   "name": "python",
   "nbconvert_exporter": "python",
   "pygments_lexer": "ipython3",
   "version": "3.14.0"
  }
 },
 "nbformat": 4,
 "nbformat_minor": 5
}
