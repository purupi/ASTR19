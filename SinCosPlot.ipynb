{
 "cells": [
  {
   "cell_type": "code",
   "execution_count": null,
   "id": "76756864-fd8d-4c3c-b3b0-0f1a168a3b49",
   "metadata": {},
   "outputs": [],
   "source": [
    "import numpy as np\n",
    "import matplotlib.pylot as plt"
   ]
  },
  {
   "cell_type": "code",
   "execution_count": null,
   "id": "57568752-a9e7-4b3f-921d-ab4946223452",
   "metadata": {},
   "outputs": [],
   "source": [
    "x = np.linsoace(0,1,100)\n",
    "\n",
    "def sin_fun(x):\n",
    "    return np.sin(x)\n",
    "def cos_fun(x):\n",
    "    return np.cos(x)\n"
   ]
  },
  {
   "cell_type": "code",
   "execution_count": null,
   "id": "d19451fa-301e-4a2c-967b-a5deab21693c",
   "metadata": {},
   "outputs": [],
   "source": [
    "y_sin = sin_fun(x)\n",
    "y_cos = cos_fun(y)\n",
    "\n",
    "fig, (ax1, ax2) = plt.sibplot(1,2,figsize (10, 4))\n",
    "\n",
    "ax1.plot(x, y_sin)\n",
    "ax1.set_title(\"sin(x)\")\n",
    "ax1.set_xlabel(\"x\")\n",
    "ax1.set_ylabel(\"y\")\n",
    "ax1.grid(True)\n",
    "\n",
    "ax1.plot(x, y_cos)\n",
    "ax1.set_title(\"cos(x)\")\n",
    "ax1.set_xlabel(\"x\")\n",
    "ax1.set_ylabel(\"y\")\n",
    "ax1.grid(True)\n",
    "\n",
    "plt.tight_layout()\n",
    "plt.savefig(\"sin_cos_plot.pdf\")\n",
    "plt.show()"
   ]
  }
 ],
 "metadata": {
  "kernelspec": {
   "display_name": "Python 3 (ipykernel)",
   "language": "python",
   "name": "python3"
  },
  "language_info": {
   "codemirror_mode": {
    "name": "ipython",
    "version": 3
   },
   "file_extension": ".py",
   "mimetype": "text/x-python",
   "name": "python",
   "nbconvert_exporter": "python",
   "pygments_lexer": "ipython3",
   "version": "3.14.0"
  }
 },
 "nbformat": 4,
 "nbformat_minor": 5
}
