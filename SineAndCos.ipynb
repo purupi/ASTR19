{
 "cells": [
  {
   "cell_type": "markdown",
   "id": "3eb4439f-486d-497d-9b85-4ddba97f010a",
   "metadata": {},
   "source": [
    "Sine and Cosine Functions in Python\n",
    "\n",
    "We will be:\n",
    "1. Defining two functions that return sin(x) and cos(x)\n",
    "2. Tabulate the values between 0 and 2pi (with 1000 enteries)\n",
    "3. Print first 10 values of x, sin(x), and cos(x)"
   ]
  },
  {
   "cell_type": "code",
   "execution_count": null,
   "id": "df9c030c-79e2-455b-828f-d38cafefcb6c",
   "metadata": {},
   "outputs": [],
   "source": [
    "import math\n",
    "import numpy as np\n",
    "\n",
    "def sin_func(x):\n",
    "    return math.sin(x)\n",
    "\n",
    "def cos_func(x):\n",
    "    return math.cos(x)\n"
   ]
  },
  {
   "cell_type": "markdown",
   "id": "a5f0d580-ff16-487d-a23a-0f382c60cb11",
   "metadata": {},
   "source": [
    "Next cell is going tabulate sin(x) and cos(x) between 0 and 2pi. Will print only the first 10 values."
   ]
  },
  {
   "cell_type": "code",
   "execution_count": 4,
   "id": "aa864cdc-5527-4b8c-9a58-b8b9f4c76ab9",
   "metadata": {},
   "outputs": [
    {
     "name": "stdout",
     "output_type": "stream",
     "text": [
      "x\t\t sin(x)\t\t cos(x)\n",
      "~~~~~~~~~~~~~~~~~~~~~~~~~~~~~~~~~~~~~~~~\n",
      "0.000000\t 0.000000\t 1.000000\n",
      "0.006289\t 0.006289\t 0.999980\n",
      "0.012579\t 0.012579\t 0.999921\n",
      "0.018868\t 0.018867\t 0.999822\n",
      "0.025158\t 0.025155\t 0.999684\n",
      "0.031447\t 0.031442\t 0.999506\n",
      "0.037737\t 0.037728\t 0.999288\n",
      "0.044026\t 0.044012\t 0.999031\n",
      "0.050316\t 0.050295\t 0.998734\n",
      "0.056605\t 0.056575\t 0.998398\n"
     ]
    }
   ],
   "source": [
    "import math\n",
    "import numpy as np\n",
    "\n",
    "n =1000\n",
    "x_values = np.linspace(0,2*math.pi, n)\n",
    "sin_values = [sin_func(x) for x in x_values]\n",
    "cos_values = [cos_func(x) for x in x_values]\n",
    "\n",
    "print(\"x\\t\\t sin(x)\\t\\t cos(x)\")\n",
    "print(\"~\" * 40)\n",
    "for i in range(10):\n",
    "    print(f\"{x_values[i]:.6f}\\t {sin_values[i]:.6f}\\t {cos_values[i]:.6f}\")"
   ]
  },
  {
   "cell_type": "code",
   "execution_count": null,
   "id": "23e5ac3f-dc0b-4289-9ea3-834034516291",
   "metadata": {},
   "outputs": [],
   "source": []
  },
  {
   "cell_type": "code",
   "execution_count": null,
   "id": "a78162e2-3641-4e32-9d22-6cda9250d560",
   "metadata": {},
   "outputs": [],
   "source": []
  }
 ],
 "metadata": {
  "kernelspec": {
   "display_name": "Python 3 (ipykernel)",
   "language": "python",
   "name": "python3"
  },
  "language_info": {
   "codemirror_mode": {
    "name": "ipython",
    "version": 3
   },
   "file_extension": ".py",
   "mimetype": "text/x-python",
   "name": "python",
   "nbconvert_exporter": "python",
   "pygments_lexer": "ipython3",
   "version": "3.12.4"
  }
 },
 "nbformat": 4,
 "nbformat_minor": 5
}
